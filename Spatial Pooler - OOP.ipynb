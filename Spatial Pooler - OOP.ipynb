{
 "cells": [
  {
   "cell_type": "code",
   "execution_count": 129,
   "metadata": {},
   "outputs": [],
   "source": [
    "import numpy as np\n",
    "import math"
   ]
  },
  {
   "cell_type": "code",
   "execution_count": 48,
   "metadata": {},
   "outputs": [],
   "source": [
    "class Column:\n",
    "    def __init__(self, synapses=4):\n",
    "        self.synapses = synapses\n",
    "        self.overlap = 0\n",
    "        self.potentialSynapses = [] # numpy 로 바꾸기\n",
    "        self.boost = 1\n",
    "        self.activated = False\n",
    "        \n",
    "        for _ in range(self.synapses):\n",
    "            self.potentialSynapses.append(Synapse())"
   ]
  },
  {
   "cell_type": "code",
   "execution_count": 49,
   "metadata": {},
   "outputs": [],
   "source": [
    "class Synapse:\n",
    "    def __init__(self):\n",
    "        self.permanence = 0"
   ]
  },
  {
   "cell_type": "code",
   "execution_count": 70,
   "metadata": {},
   "outputs": [],
   "source": [
    "class SpatialPooler:\n",
    "    def __init__(self, encoded_data, w=5, h=5, synapse_count=4):\n",
    "        self.encoded_data = encoded_data            # encoder 에서 encoding 되어 들어온 입력 데이터\n",
    "        self.column_w = w                           # column 가로 크기\n",
    "        self.column_h = h                           # column 세로 크기\n",
    "        self.total_columns = self.column_w * self.column_h                  # 총 컬럼의 수\n",
    "        self.synapses = synapse_count               # 각 컬럼 당 아랫단 계층과 연결되는 synapse 수\n",
    "        self.min_overlap = 5                        # 발화 하기 위한 최소한의 overlap count\n",
    "        self.minLocalActivity = 5                   # 발화할 임계치\n",
    "        self.desiredLocalActivity = 5               # 발화할 column 수\n",
    "        self.connectedPerm = .5                     # synapse permanence 임계치\n",
    "        \n",
    "        self.columns = []\n",
    "        \n",
    "        for w in range(self.column_w):\n",
    "            self.columns.append([])\n",
    "            \n",
    "            for h in range(self.column_h):\n",
    "                self.columns[w].append(Column())\n",
    "                \n",
    "    def compute_SDR(self):\n",
    "        for w in range(self.column_w):\n",
    "            for h in range(self.column_h):\n",
    "                self.columns[w][h].overlap = 0"
   ]
  },
  {
   "cell_type": "code",
   "execution_count": 71,
   "metadata": {},
   "outputs": [
    {
     "name": "stdout",
     "output_type": "stream",
     "text": [
      "False\n",
      "False\n",
      "False\n",
      "False\n",
      "False\n",
      "False\n",
      "False\n",
      "False\n",
      "False\n",
      "False\n",
      "False\n",
      "False\n",
      "False\n",
      "False\n",
      "False\n",
      "False\n",
      "False\n",
      "False\n",
      "False\n",
      "False\n",
      "False\n",
      "False\n",
      "False\n",
      "False\n",
      "False\n"
     ]
    }
   ],
   "source": [
    "s = Column()\n",
    "s.potentialSynapses[1].permanence\n",
    "\n",
    "sp = SpatialPooler([1])\n",
    "sp.compute_SDR()\n",
    "for w in range(sp.column_w):\n",
    "    for h in range(sp.column_h):\n",
    "        print(sp.columns[w][h].activated)"
   ]
  }
 ],
 "metadata": {
  "kernelspec": {
   "display_name": "Python 3",
   "language": "python",
   "name": "python3"
  },
  "language_info": {
   "codemirror_mode": {
    "name": "ipython",
    "version": 3
   },
   "file_extension": ".py",
   "mimetype": "text/x-python",
   "name": "python",
   "nbconvert_exporter": "python",
   "pygments_lexer": "ipython3",
   "version": "3.7.0"
  }
 },
 "nbformat": 4,
 "nbformat_minor": 2
}
