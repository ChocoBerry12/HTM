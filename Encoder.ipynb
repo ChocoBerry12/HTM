{
 "cells": [
  {
   "cell_type": "markdown",
   "metadata": {},
   "source": [
    "---\n",
    "# Encoder for HTM - Numeric\n",
    "\n",
    "---\n",
    "- Encoder 는  Raw data 를 Encoding 한다.<br>\n",
    "- HTM system 에서 데이터는 Encoding 후 Spatial Pooler 의 입력으로 들어간다.<br>\n",
    "- Encoding 된 데이터는 결과는 0, 1 로 고정된 크기이다.<br>\n",
    "- 감각기 정보뿐 아니라 모든 종류의 데이터를 encoding 할 수 있다.<br>\n",
    "---\n",
    "\n",
    "## Encoder 의 조건\n",
    "1. Semantically similar data should result in SDRs with overlapping active bits.\n",
    "2. The same input should always produce the same SDR as output.\n",
    "3. The output should have the same dimensionality (total number of bits) for all inputs.\n",
    "4. The output should have similar sparsity for all inputs and have enough one-bits to handle noise and subsampling.\n",
    "\n",
    "---"
   ]
  },
  {
   "cell_type": "code",
   "execution_count": 1,
   "metadata": {
    "slideshow": {
     "slide_type": "-"
    }
   },
   "outputs": [],
   "source": [
    "import numpy as np\n",
    "import math\n",
    "import random\n",
    "import matplotlib.pyplot as plt"
   ]
  },
  {
   "cell_type": "code",
   "execution_count": 185,
   "metadata": {},
   "outputs": [],
   "source": [
    "class ScalarEncoder:\n",
    "    def __init__(self, min_val=0, max_val=20, log_max=1000, delta_min=-10, delta_max=10, out_size=16, w=3):\n",
    "        \n",
    "        self.min_val = min_val                  # 표현할 최소값\n",
    "        self.max_val = max_val                  # 표현할 최대값\n",
    "        self.log_max = log_max               # 로그 encoder 최대값\n",
    "        self.delta_min = delta_min           # delta 최소값\n",
    "        self.delta_max = delta_max           # delta 최대값\n",
    "        self.out_size = out_size             # 출력 데이터 크기\n",
    "        self.w = w                           # 1 인 bit 의 수\n",
    "        self.num_bucket = out_size - w + 1   # bucket 의 갯수\n",
    "\n",
    "    \n",
    "    \n",
    "    '''\n",
    "    가장 기본적인 Encoder.\n",
    "    제한된 작은 숫자를 인코딩\n",
    "    ''' \n",
    "    def encode_vanilla(self, value):\n",
    "        \n",
    "        range_val = self.max_val - self.min_val   # 범위\n",
    "\n",
    "        # 입력 데이터 제한\n",
    "        if(value > self.max_val):\n",
    "            value = self.max_val\n",
    "        elif(value < self.min_val):\n",
    "            value = self.min_val\n",
    "            \n",
    "        i = math.floor(self.num_bucket * (value - self.min_val) / range_val)\n",
    "        if(i + self.w >= self.out_size):\n",
    "            i -= 1\n",
    "        encoded_data = np.zeros(self.out_size)\n",
    "        encoded_data[i : i+self.w] = 1\n",
    "\n",
    "        return encoded_data\n",
    "    \n",
    "    \n",
    "    \n",
    "    def encode_log(self, value):\n",
    "        \n",
    "        range_val = self.log_max - self.min_val   # 범위\n",
    "\n",
    "        # 입력 데이터 제한\n",
    "        if(value > self.log_max):\n",
    "            value = self.log_max\n",
    "        elif(value < self.min_val):\n",
    "            value = self.min_val\n",
    "\n",
    "        i = math.floor(self.num_bucket * np.log10(value - self.min_val) / np.log10(range_val))\n",
    "\n",
    "        encoded_data = np.zeros(self.out_size)\n",
    "        encoded_data[i : i+self.w] = 1\n",
    "\n",
    "        return encoded_data\n",
    "    \n",
    "    \n",
    "    \n",
    "    def encode_delta(self, value_prev, value_cur):\n",
    "        delta = value_cur - value_prev\n",
    "        range_val = self.delta_max - self.delta_min   # 범위\n",
    "\n",
    "        # 입력 데이터 제한\n",
    "        if(delta > self.delta_max):\n",
    "            delta = self.delta_max\n",
    "        elif(delta < self.delta_min):\n",
    "            delta = self.delta_min\n",
    "\n",
    "        i = math.floor(self.num_bucket * (delta - self.delta_min) / range_val)\n",
    "        encoded_data = np.zeros(self.out_size)\n",
    "        encoded_data[i : i+self.w] = 1\n",
    " \n",
    "        return encoded_data\n",
    "\n",
    "\n",
    "\n",
    "    '''\n",
    "    random hash encode - 기본적으로 사용\n",
    "    hashing 을 사용해 output data 를 넓게 분포시킨다.\n",
    "    한정된 output size 일 경우 해상도를 높일 수 있다.\n",
    "    2 중 hashing 쓰기\n",
    "    '''\n",
    "    def encode(self, value):\n",
    "        \n",
    "        range_val = self.max_val - self.min_val   # 범위\n",
    "\n",
    "        # 입력 데이터 제한\n",
    "        if(value > self.max_val):\n",
    "            value = self.max_val\n",
    "        elif(value < self.min_val):\n",
    "            value = self.min_val\n",
    "\n",
    "        i = math.floor(self.num_bucket * (value - self.min_val) / range_val)\n",
    "        if(i + self.w >= self.out_size):\n",
    "            i -= 1\n",
    "        encoded_data = np.zeros(self.out_size)\n",
    "        \n",
    "        for n in range(i, i+self.w):\n",
    "            # 2 중 해싱\n",
    "            key = ((n*n) % (self.out_size) + (n*n) % (3)) % (self.out_size)\n",
    "            \n",
    "            # 충돌 처리\n",
    "            while(encoded_data[key] == 1):\n",
    "                key += 4\n",
    "                if(key >= self.out_size):\n",
    "                    key = 0\n",
    "                    \n",
    "            encoded_data[key] = 1\n",
    "            \n",
    "        return encoded_data\n",
    "    "
   ]
  },
  {
   "cell_type": "code",
   "execution_count": 186,
   "metadata": {},
   "outputs": [
    {
     "data": {
      "image/png": "[encoded data removed]",
      "text/plain": [
       "<Figure size 432x288 with 25 Axes>"
      ]
     },
     "metadata": {
      "needs_background": "light"
     },
     "output_type": "display_data"
    }
   ],
   "source": [
    "encoder = ScalarEncoder(w=5, out_size=25, max_val=30)\n",
    "fig = plt.figure()\n",
    "num = encoder.out_size\n",
    "for i in range(num):\n",
    "    #encoder.encode(i)\n",
    "    data = encoder.encode(i).reshape(1,encoder.out_size)\n",
    "    fig.add_subplot(num,1,i+1)\n",
    "    plt.imshow(data)"
   ]
  },
  {
   "cell_type": "code",
   "execution_count": 36,
   "metadata": {},
   "outputs": [],
   "source": [
    "class CategoryEncoder:\n",
    "    '''\n",
    "    간단한 카테고리 encoder\n",
    "    겹치지않게 만든다.\n",
    "    '''\n",
    "    def __init__(self, category, w=3):\n",
    "        self.category = category\n",
    "        self.category_count = len(category)\n",
    "        self.active_bits = w\n",
    "        self.total_bit = self.category_count * self.active_bits\n",
    "        self.encoded_data = np.zeros(self.total_bit)\n",
    "    \n",
    "    def encode(self, item):\n",
    "        if(item not in self.category):\n",
    "            print('N/A')\n",
    "            return None\n",
    "        \n",
    "        start_bit = self.category.index(item) + (self.active_bits - 1)*self.category.index(item)\n",
    "        self.encoded_data[start_bit : start_bit+self.active_bits] = 1\n",
    "        \n",
    "        return self.encoded_data"
   ]
  },
  {
   "cell_type": "code",
   "execution_count": 38,
   "metadata": {},
   "outputs": [
    {
     "data": {
      "text/plain": [
       "array([1., 1., 1., 0., 0., 0., 0., 0., 0.])"
      ]
     },
     "execution_count": 38,
     "metadata": {},
     "output_type": "execute_result"
    }
   ],
   "source": [
    "ce = CategoryEncoder(['1','2','3'])\n",
    "ce.encode('1')"
   ]
  },
  {
   "cell_type": "code",
   "execution_count": 71,
   "metadata": {},
   "outputs": [],
   "source": [
    "class CycleEncoder:\n",
    "    '''\n",
    "    겹치게 만든다.\n",
    "    case by case 로 hardcoding 이 필요함.\n",
    "    '''\n",
    "    def __init__(self, category, active_bits=3, resolution=5):\n",
    "        self.category = category\n",
    "        self.category_count = len(category)\n",
    "        self.active_bits = active_bits\n",
    "        self.resolution = resolution\n",
    "        self.total_bit = self.category_count * self.resolution\n",
    "        self.encoded_data = np.zeros(self.total_bit)\n",
    "    \n",
    "    def encode(self, time):\n",
    "        #start_bit = \n",
    "        \n",
    "        return self.encoded_data"
   ]
  },
  {
   "cell_type": "code",
   "execution_count": 56,
   "metadata": {},
   "outputs": [],
   "source": [
    "class CategoryEncoder:\n",
    "    '''\n",
    "    간단한 카테고리 encoder\n",
    "    겹치지않게 만든다.\n",
    "    '''\n",
    "    def __init__(self, category, active_bits=3):\n",
    "        self.category = category\n",
    "        self.category_count = len(category)\n",
    "        self.active_bits = active_bits\n",
    "        self.total_bit = self.category_count * self.active_bits\n",
    "        self.encoded_data = np.zeros(self.total_bit)\n",
    "    \n",
    "    def encode(self, item):\n",
    "        if(item not in self.category):\n",
    "            print('N/A')\n",
    "            return None\n",
    "        \n",
    "        start_bit = self.category.index(item) + (self.active_bits - 1)*self.category.index(item)\n",
    "        self.encoded_data[start_bit : start_bit+self.active_bits] = 1\n",
    "        \n",
    "        return self.encoded_data"
   ]
  },
  {
   "cell_type": "code",
   "execution_count": 39,
   "metadata": {},
   "outputs": [],
   "source": [
    "def WeekEncoder(day):\n",
    "    '''\n",
    "    주중과 주말을 category 화 하여 encoding.\n",
    "    - SUN - MON - TUE - WED - THU - FRI - SAT -\n",
    "    겹치지않게 만든다.\n",
    "    '''\n",
    "    data_size = 10\n",
    "    \n",
    "    if(day == 'SUN' or day == 'SAT'):\n",
    "        start_bit = 0\n",
    "    elif(day == 'MON' or day == 'TUE' or day == 'WED' or \n",
    "         day == 'THU' or day == 'FRI'):\n",
    "        start_bit = int(data_size / 2)\n",
    "    else:\n",
    "        print(\"N/A\")\n",
    "        return 0\n",
    "        \n",
    "    encoded_data = np.zeros(data_size)\n",
    "    encoded_data[start_bit : start_bit + int(data_size/2)] = 1\n",
    "    \n",
    "    return encoded_data"
   ]
  }
 ],
 "metadata": {
  "kernelspec": {
   "display_name": "Python 3",
   "language": "python",
   "name": "python3"
  },
  "language_info": {
   "codemirror_mode": {
    "name": "ipython",
    "version": 3
   },
   "file_extension": ".py",
   "mimetype": "text/x-python",
   "name": "python",
   "nbconvert_exporter": "python",
   "pygments_lexer": "ipython3",
   "version": "3.6.7"
  }
 },
 "nbformat": 4,
 "nbformat_minor": 2
}
