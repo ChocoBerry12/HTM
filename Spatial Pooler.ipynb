{
 "cells": [
  {
   "cell_type": "markdown",
   "metadata": {},
   "source": [
    "---\n",
    "# Spatial Pooler\n",
    "\n",
    "---\n",
    "- encoding 된 data 를 입력받아 희소분포표상(SDRs) 를 생성한다.\n",
    "- 시간 t 는 특정시간을 나타내는데, 모든 스텝의 정보를 저장하지말고 prev, cur 형태로만 저장하면 된다.\n",
    "- input 은 placeholder 로 간주하면 된다.\n",
    "---"
   ]
  },
  {
   "cell_type": "code",
   "execution_count": 129,
   "metadata": {},
   "outputs": [],
   "source": [
    "import numpy as np\n",
    "import math"
   ]
  },
  {
   "cell_type": "code",
   "execution_count": 144,
   "metadata": {},
   "outputs": [],
   "source": [
    "class SpatialPooler:\n",
    "    def __init__(self, encoded_data, w=5, h=5, synapse_count=4):\n",
    "        ''' layer 의 속성을 결정하는 hyper parameters '''\n",
    "        self.encoded_data = encoded_data            # encoder 에서 encoding 되어 들어온 입력 데이터\n",
    "        self.column_w = w                           # column 가로 크기\n",
    "        self.column_h = h                           # column 세로 크기\n",
    "        self.total_columns = self.column_w * self.column_h                  # 총 컬럼의 수\n",
    "        self.synapses = synapse_count               # 각 컬럼 당 아랫단 계층과 연결되는 synapse 수\n",
    "        self.min_overlap = 5                        # 발화 하기 위한 최소한의 overlap count\n",
    "        self.minLocalActivity = 5                   # 발화할 임계치\n",
    "        self.desiredLocalActivity = 5               # 발화할 column 수\n",
    "        self.connectedPerm = .5                     # synapse permanence 임계치\n",
    "        \n",
    "        ''' layer 에 존재하는 column 과 학습 대상 data 들  '''\n",
    "        self.overlap = np.zeros([self.column_w, self.column_h])                            # 입력과 overlap 되는 데이터 카운트. 컬럼 당 하나. 1차원으로 만들어도 됨.\n",
    "        self.potentialSynapses = np.ones([self.column_w, self.column_h, self.synapses])    # 각 컬럼 당 입력 layer 와 연결된 모든 잠재적 시냅스의 permanence\n",
    "        self.boost = np.ones([self.column_w, self.column_h])                               # 가중치\n",
    "        self.activateColumns = []        # 승리한 컬럼 리스트 - bool\n",
    "    \n",
    "    def compute_SDR(self):\n",
    "        ''' 1. 겹치게 하기 '''\n",
    "        for w in range(self.column_w):\n",
    "            for h in range(self.column_h):\n",
    "                self.overlap[w, h] = 0\n",
    "                \n",
    "                connectedSynapses = np.where(self.potentialSynapses[w, h] > self.connectedPerm)\n",
    "                \n",
    "                for s in connectedSynapses[0]:\n",
    "                    self.overlap[w, h] += self.encoded_data[s + w*self.column_w + h]  \n",
    "                \n",
    "                if(self.overlap[w, h] < self.min_overlap):\n",
    "                    self.overlap[w, h] = 0\n",
    "                else:\n",
    "                    self.overlap[w, h] *=  self.boost[w, h]\n",
    "                                \n",
    "        ''' 2. 억제 '''        \n",
    "        for w in range(self.column_w):\n",
    "            for h in range(self.column_h):\n",
    "                self.minLocalActivity = self.kthScore(0, self.desiredLocalActivity)\n",
    "\n",
    "                if(self.overlap[w, h] > self.minLocalActivity):\n",
    "                    self.activateColumns.append((w, h))\n",
    "                            \n",
    "        ''' 3. 학습 '''\n",
    "        for w, h in self.activateColumns:\n",
    "            order = 0\n",
    "            for perm in self.potentialSynapses[w, h]:\n",
    "                if(perm > self.connectedPerm):\n",
    "                    perm = np.clip(perm+.1, 0, 1)\n",
    "                    self.potentialSynapses[w, h, order]\n",
    "                else:\n",
    "                    perm = np.clip(perm-.1, 0, 1)\n",
    "                    self.potentialSynapses[w, h, order]\n",
    "\n",
    "                order += 1\n",
    "    \n",
    "    def kthScore(self, column, desired_kth):\n",
    "        #np.sort(self.overlap)\n",
    "        return 1"
   ]
  },
  {
   "cell_type": "code",
   "execution_count": 146,
   "metadata": {},
   "outputs": [],
   "source": [
    "test_data = np.arange(40)\n",
    "s = SpatialPooler(test_data)\n",
    "s.compute_SDR()"
   ]
  },
  {
   "cell_type": "code",
   "execution_count": 167,
   "metadata": {},
   "outputs": [
    {
     "data": {
      "text/plain": [
       "array([[[ 0,  1,  2,  3],\n",
       "        [ 4,  5,  6,  7],\n",
       "        [ 8,  9, 10, 11]],\n",
       "\n",
       "       [[12, 13, 14, 15],\n",
       "        [16, 17, 18, 19],\n",
       "        [ 0,  0, 22, 23]]])"
      ]
     },
     "execution_count": 167,
     "metadata": {},
     "output_type": "execute_result"
    }
   ],
   "source": [
    "arr = np.arange(24).reshape([2,3,-1])\n",
    "order = 0\n",
    "for i in a[1,2]:\n",
    "    i = 0\n",
    "    arr[1,2,order] = i\n",
    "    order += 1\n",
    "arr"
   ]
  }
 ],
 "metadata": {
  "kernelspec": {
   "display_name": "Python 3",
   "language": "python",
   "name": "python3"
  },
  "language_info": {
   "codemirror_mode": {
    "name": "ipython",
    "version": 3
   },
   "file_extension": ".py",
   "mimetype": "text/x-python",
   "name": "python",
   "nbconvert_exporter": "python",
   "pygments_lexer": "ipython3",
   "version": "3.7.0"
  }
 },
 "nbformat": 4,
 "nbformat_minor": 2
}
