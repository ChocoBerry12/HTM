{
 "cells": [
  {
   "cell_type": "code",
   "execution_count": 1,
   "metadata": {},
   "outputs": [],
   "source": [
    "#-*- coding: utf-8 -*- \n",
    "from functools import partial\n",
    "from random import random\n",
    "from threading import Thread\n",
    "import time\n",
    "\n",
    "from bokeh.models import ColumnDataSource\n",
    "from bokeh.plotting import curdoc, figure\n",
    "\n",
    "from tornado import gen\n",
    "\n",
    "source = ColumnDataSource(data=dict(x=[0], y=[0]))\n",
    "\n",
    "doc = curdoc()\n",
    "\n",
    "@gen.coroutine\n",
    "def update(x, y):\n",
    "    source.stream(dict(x=[x], y=[y]))\n",
    "\n",
    "def blocking_task():\n",
    "    while True:\n",
    "        time.sleep(0.1)\n",
    "        x, y = random(), random()\n",
    "\n",
    "        doc.add_next_tick_callback(partial(update, x=x, y=y))\n",
    "\n",
    "p = figure(x_range=[0, 1], y_range=[0,1])\n",
    "l = p.circle(x='x', y='y', source=source)\n",
    "\n",
    "doc.add_root(p)\n",
    "\n",
    "thread = Thread(target=blocking_task)\n",
    "thread.start()"
   ]
  }
 ],
 "metadata": {
  "kernelspec": {
   "display_name": "Python 3",
   "language": "python",
   "name": "python3"
  },
  "language_info": {
   "codemirror_mode": {
    "name": "ipython",
    "version": 3
   },
   "file_extension": ".py",
   "mimetype": "text/x-python",
   "name": "python",
   "nbconvert_exporter": "python",
   "pygments_lexer": "ipython3",
   "version": "3.6.7"
  }
 },
 "nbformat": 4,
 "nbformat_minor": 2
}
