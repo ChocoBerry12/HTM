{
 "cells": [
  {
   "cell_type": "markdown",
   "metadata": {},
   "source": [
    "---\n",
    "# Temporal Memory 에 쓰일 data structure\n",
    "\n",
    "---"
   ]
  },
  {
   "cell_type": "code",
   "execution_count": 4,
   "metadata": {},
   "outputs": [],
   "source": [
    "class Cell:\n",
    "    #segments                   \n",
    "    # segment list\n",
    "    def __init__(self, cell_id):\n",
    "        self.cell_id = cell_id\n",
    "        self.segments = []            # segment id\n",
    "        self.connectedSynapses = set()   # temp\n"
   ]
  },
  {
   "cell_type": "code",
   "execution_count": 3,
   "metadata": {},
   "outputs": [],
   "source": [
    "class Segment:\n",
    "    #cellFrom                   # cell id\n",
    "    #synapses                   # synapse list\n",
    "    def __init__(self, cell_id, segment_id):\n",
    "        self.synapses = []                    # synapse object\n",
    "        self.cell = cell_id\n",
    "        self.segment_id = segment_id\n",
    "        self.numActivePotentialSyns = 0\n",
    "        \n",
    "    def __del__(self):\n",
    "        pass"
   ]
  },
  {
   "cell_type": "code",
   "execution_count": 1,
   "metadata": {},
   "outputs": [],
   "source": [
    "class Synapse:\n",
    "    #segmentFrom\n",
    "    #permanence\n",
    "    #self.prevSynapticCells     # cell id\n",
    "    def __init__(self, segment_id, presynaptic, syn_id, permanence):\n",
    "        self.segment = segment_id           # segment id\n",
    "        self.preSynapticCell = presynaptic  # cell id\n",
    "        self.synapse_id = syn_id\n",
    "        self.permanence = permanence\n",
    "        \n",
    "    def __del__(self):\n",
    "        pass\n",
    "        "
   ]
  },
  {
   "cell_type": "code",
   "execution_count": 64,
   "metadata": {},
   "outputs": [],
   "source": [
    "# 모든 연결 정보 저장\n",
    "class connectionInfo:\n",
    "    def __init__(self, Num_TotalCells):\n",
    "        self.totalCells = [Cell(i) for i in range(Num_TotalCells)] # all cell object\n",
    "        self.totalSegments = []     # all segment object\n",
    "        self.segment_order = 0\n",
    "        self.synapse_order = 0\n",
    "        \n",
    "    # segment 생성\n",
    "    def createNewSegment(self, cell_id):\n",
    "        newSegment = Segment(cell_id, self.segment_order)\n",
    "        self.totalCells[cell_id].segments.append(newSegment.segment_id)\n",
    "        self.totalSegments.append(newSegment)\n",
    "        self.segment_order += 1\n",
    "        \n",
    "        return newSegment.segment_id\n",
    "        \n",
    "    # synapse 생성    \n",
    "    def createNewSynapse(self, segment, preSynaptic, permanence):\n",
    "        self.totalSegments[segment].synapses.append(Synapse(segment, preSynaptic, self.synapse_order, permanence))\n",
    "        self.totalCells[preSynaptic].connectedSynapses.add(self.synapse_order)\n",
    "        self.synapse_order += 1\n",
    "        \n",
    "    \n",
    "    # segment 삭제\n",
    "    def destroySegment(self, seg_id):\n",
    "        # seg 인덱스를 받아서 그걸 토대로 삭제\n",
    "        for seg in self.totalSegments:\n",
    "            if(seg.segment_id == seg_id):\n",
    "                cell = seg.cell\n",
    "                self.totalCells[cell].segments.remove(seg_id) # cell 에서 삭제\n",
    "                self.clearSynapses(seg_id) # synapses 삭제\n",
    "                del(seg) # segment 객체 삭제\n",
    "                print(\"segment {} destroyed\".format(seg_id))\n",
    "                break;\n",
    "            \n",
    "    \n",
    "    # synapse 다 날리기\n",
    "    def clearSynapses(self, seg_id):\n",
    "        for syn in self.totalSegments[seg_id].synapses:\n",
    "            self.totalCells[syn.preSynapticCell].connectedSynapses.remove(syn.synapse_id)\n",
    "            \n",
    "        # 이후에 segment 삭제되면 알아서 다 삭제됨\n",
    "        # presynaptic cell 에서만 제거해줌\n",
    "    \n",
    "    \n",
    "    # synapse segment 에서 하나 삭제\n",
    "    def destroySynapse(self, seg_id, exclude_cells):\n",
    "        \n",
    "        min_perm = 1\n",
    "        min_syn = 0\n",
    "        # segment 내의 synapse 들의 presynapticCell 이 exclude 에 포함되어있지 않고 permanence 가 가장 작은 것 파괴\n",
    "        for syn_order in range(len(self.totalSegments[seg_id].synapses)):\n",
    "            s = self.totalSegments[seg_id].synapses[syn_order]\n",
    "            if(s.preSynapticCell not in exclude_cells and s.permanence < min_perm):\n",
    "                min_perm = s.permanence\n",
    "                min_syn = syn_order\n",
    "        \n",
    "        # presynaptic 제거\n",
    "        target = self.totalSegments[seg_id].synapses[min_syn]\n",
    "        self.totalCells[target.preSynapticCell].connectedSynapses.remove(target.synapse_id)\n",
    "        \n",
    "        # 객체 제거\n",
    "        del(self.totalSegments[seg_id].synapses[min_syn])"
   ]
  }
 ],
 "metadata": {
  "kernelspec": {
   "display_name": "Python 3",
   "language": "python",
   "name": "python3"
  },
  "language_info": {
   "codemirror_mode": {
    "name": "ipython",
    "version": 3
   },
   "file_extension": ".py",
   "mimetype": "text/x-python",
   "name": "python",
   "nbconvert_exporter": "python",
   "pygments_lexer": "ipython3",
   "version": "3.6.7"
  }
 },
 "nbformat": 4,
 "nbformat_minor": 2
}
