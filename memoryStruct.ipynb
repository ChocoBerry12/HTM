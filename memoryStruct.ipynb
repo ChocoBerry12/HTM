{
 "cells": [
  {
   "cell_type": "markdown",
   "metadata": {},
   "source": [
    "---\n",
    "# Temporal Memory 에 쓰일 data structure\n",
    "\n",
    "---"
   ]
  },
  {
   "cell_type": "code",
   "execution_count": 1,
   "metadata": {},
   "outputs": [],
   "source": [
    "class Cell:\n",
    "    #segments                   \n",
    "    # segment list\n",
    "    def __init__(self, cell_id):\n",
    "        self.cell_id = cell_id\n",
    "        self.segments = []\n",
    "        self.connectedSynapses = []\n"
   ]
  },
  {
   "cell_type": "code",
   "execution_count": 5,
   "metadata": {},
   "outputs": [],
   "source": [
    "class Segment:\n",
    "    #cellFrom                   # cell id\n",
    "    #synapses                   # synapse list\n",
    "    def __init__(self, cell_id, segment_id):\n",
    "        self.synapses = []\n",
    "        self.cell = cell_id\n",
    "        self.segment_id = segment_id\n",
    "        #self.prev_numActivePotentialSyns = 0\n",
    "        self.numActivePotentialSyns = 0\n",
    "        "
   ]
  },
  {
   "cell_type": "code",
   "execution_count": 3,
   "metadata": {},
   "outputs": [],
   "source": [
    "class Synapse:\n",
    "    #segmentFrom\n",
    "    #permanence\n",
    "    #self.prevSynapticCells     # cell id\n",
    "    def __init__(self, segment, presynaptic, permanence):\n",
    "        self.segment = segment\n",
    "        self.preSynapticCell = presynaptic\n",
    "        self.permanence = permanence"
   ]
  },
  {
   "cell_type": "code",
   "execution_count": 4,
   "metadata": {},
   "outputs": [],
   "source": [
    "# 모든 연결 정보 저장\n",
    "class connectionInfo:\n",
    "    def __init__(self, Num_TotalCells):\n",
    "        self.totalCells = [Cell(i) for i in range(Num_TotalCells)]\n",
    "        self.totalSegments = []\n",
    "        self.segment_order = 0\n",
    "        \n",
    "    def createNewSegment(self, cell_id):\n",
    "        newSegment = Segment(cell_id, self.segment_order)\n",
    "        self.totalCells[cell_id].segments.append(newSegment)\n",
    "        self.totalSegments.append(newSegment)\n",
    "        self.segment_order += 1\n",
    "\n",
    "        return newSegment\n",
    "        \n",
    "        \n",
    "    def createNewSynapse(self, segment, preSynaptic, permanence):\n",
    "        self.totalSegments[segment.segment_id].synapses.append(Synapse(segment, preSynaptic, permanence))\n",
    "        "
   ]
  }
 ],
 "metadata": {
  "kernelspec": {
   "display_name": "Python 3",
   "language": "python",
   "name": "python3"
  },
  "language_info": {
   "codemirror_mode": {
    "name": "ipython",
    "version": 3
   },
   "file_extension": ".py",
   "mimetype": "text/x-python",
   "name": "python",
   "nbconvert_exporter": "python",
   "pygments_lexer": "ipython3",
   "version": "3.6.7"
  }
 },
 "nbformat": 4,
 "nbformat_minor": 2
}
