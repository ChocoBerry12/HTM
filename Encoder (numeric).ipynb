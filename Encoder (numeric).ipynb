{
 "cells": [
  {
   "cell_type": "markdown",
   "metadata": {},
   "source": [
    "---\n",
    "# Encoder for HTM - Numeric\n",
    "\n",
    "---\n",
    "- Encoder 는  Raw data 를 Encoding 한다.<br>\n",
    "- HTM system 에서 데이터는 Encoding 후 Spatial Pooler 의 입력으로 들어간다.<br>\n",
    "- Encoding 된 데이터는 결과는 0, 1 로 고정된 크기이다.<br>\n",
    "- 감각기 정보뿐 아니라 모든 종류의 데이터를 encoding 할 수 있다.<br>\n",
    "---\n",
    "\n",
    "## Encoder 의 조건\n",
    "1. Semantically similar data should result in SDRs with overlapping active bits.\n",
    "2. The same input should always produce the same SDR as output.\n",
    "3. The output should have the same dimensionality (total number of bits) for all inputs.\n",
    "4. The output should have similar sparsity for all inputs and have enough one-bits to handle noise and subsampling.\n",
    "\n",
    "---"
   ]
  },
  {
   "cell_type": "code",
   "execution_count": 1,
   "metadata": {
    "slideshow": {
     "slide_type": "-"
    }
   },
   "outputs": [],
   "source": [
    "import numpy as np\n",
    "import math\n",
    "import random"
   ]
  },
  {
   "cell_type": "markdown",
   "metadata": {},
   "source": [
    "---\n",
    "## Scalar Encoder\n",
    "\n",
    "---\n",
    "- 달팽이관이 소리 data 를 받고 뇌로 전달하는 과정을 모사함.<br>\n",
    "- 달팽이관은 생물학적인 SDR 형성 Encoder 임.<br>\n",
    "\n",
    "---"
   ]
  },
  {
   "cell_type": "code",
   "execution_count": 162,
   "metadata": {},
   "outputs": [],
   "source": [
    "'''\n",
    "가장 기본적인 Encoder.\n",
    "제한된 작은 숫자를 인코딩\n",
    "이하의 모든 Encoder 는 모두 ndarray 를 계속 생성하고 있다.\n",
    "재활용하는 방법으로 바꿔야함 - class 로 빼내어 객체 변수화 하기\n",
    "'''\n",
    "def ScalarEndocer(value):\n",
    "    min_val = 0                     # 최소값\n",
    "    max_val = 20                    # 최대값\n",
    "    range_val = max_val - min_val   # 범위\n",
    "    num_bucket = 20                 # 칸 크기\n",
    "    w = 5                           # 표상에 나타날 비트 수\n",
    "    total_bits = num_bucket + w - 1 # 총 데이터 크기\n",
    "    \n",
    "    '''\n",
    "    입력 데이터 제한\n",
    "    '''\n",
    "    if(value > max_val):\n",
    "        value = max_val\n",
    "    elif(value < min_val):\n",
    "        value = min_val\n",
    "    \n",
    "    i = math.floor(num_bucket * (value - min_val) / range_val)\n",
    "    \n",
    "    encoded_data = np.zeros(total_bits)\n",
    "    encoded_data[i : i+w] = 1\n",
    "\n",
    "    return encoded_data"
   ]
  },
  {
   "cell_type": "code",
   "execution_count": 162,
   "metadata": {},
   "outputs": [],
   "source": [
    "'''\n",
    "가장 기본적인 Encoder.\n",
    "제한된 작은 숫자를 인코딩\n",
    "이하의 모든 Encoder 는 모두 ndarray 를 계속 생성하고 있다.\n",
    "재활용하는 방법으로 바꿔야함 - class 로 빼내어 객체 변수화 하기\n",
    "'''\n",
    "def ScalarEndocer_flexible(value):\n",
    "    min_val = 0                     # 최소값\n",
    "    max_val = 20                    # 최대값\n",
    "    range_val = max_val - min_val   # 범위\n",
    "    num_bucket = 20                 # 칸 크기\n",
    "    w = 5                           # 표상에 나타날 비트 수\n",
    "    total_bits = num_bucket + w - 1 # 총 데이터 크기\n",
    "    \n",
    "    '''\n",
    "    입력 데이터 제한\n",
    "    '''\n",
    "    if(value > max_val):\n",
    "        value = max_val\n",
    "    elif(value < min_val):\n",
    "        value = min_val\n",
    "    \n",
    "    i = math.floor(num_bucket * (value - min_val) / range_val)\n",
    "    \n",
    "    encoded_data = np.zeros(total_bits)\n",
    "    encoded_data[i : i+w] = 1\n",
    "\n",
    "    return encoded_data"
   ]
  },
  {
   "cell_type": "code",
   "execution_count": 165,
   "metadata": {},
   "outputs": [
    {
     "name": "stdout",
     "output_type": "stream",
     "text": [
      "7 [0. 0. 0. 0. 0. 0. 0. 1. 1. 1. 1. 1. 0. 0. 0. 0. 0. 0. 0. 0. 0. 0. 0. 0.]\n",
      "1 [0. 1. 1. 1. 1. 1. 0. 0. 0. 0. 0. 0. 0. 0. 0. 0. 0. 0. 0. 0. 0. 0. 0. 0.]\n",
      "6 [0. 0. 0. 0. 0. 0. 1. 1. 1. 1. 1. 0. 0. 0. 0. 0. 0. 0. 0. 0. 0. 0. 0. 0.]\n",
      "8 [0. 0. 0. 0. 0. 0. 0. 0. 1. 1. 1. 1. 1. 0. 0. 0. 0. 0. 0. 0. 0. 0. 0. 0.]\n",
      "2 [0. 0. 1. 1. 1. 1. 1. 0. 0. 0. 0. 0. 0. 0. 0. 0. 0. 0. 0. 0. 0. 0. 0. 0.]\n",
      "14 [0. 0. 0. 0. 0. 0. 0. 0. 0. 0. 0. 0. 0. 0. 1. 1. 1. 1. 1. 0. 0. 0. 0. 0.]\n",
      "9 [0. 0. 0. 0. 0. 0. 0. 0. 0. 1. 1. 1. 1. 1. 0. 0. 0. 0. 0. 0. 0. 0. 0. 0.]\n",
      "18 [0. 0. 0. 0. 0. 0. 0. 0. 0. 0. 0. 0. 0. 0. 0. 0. 0. 0. 1. 1. 1. 1. 1. 0.]\n",
      "15 [0. 0. 0. 0. 0. 0. 0. 0. 0. 0. 0. 0. 0. 0. 0. 1. 1. 1. 1. 1. 0. 0. 0. 0.]\n",
      "12 [0. 0. 0. 0. 0. 0. 0. 0. 0. 0. 0. 0. 1. 1. 1. 1. 1. 0. 0. 0. 0. 0. 0. 0.]\n",
      "3 [0. 0. 0. 1. 1. 1. 1. 1. 0. 0. 0. 0. 0. 0. 0. 0. 0. 0. 0. 0. 0. 0. 0. 0.]\n",
      "5 [0. 0. 0. 0. 0. 1. 1. 1. 1. 1. 0. 0. 0. 0. 0. 0. 0. 0. 0. 0. 0. 0. 0. 0.]\n",
      "10 [0. 0. 0. 0. 0. 0. 0. 0. 0. 0. 1. 1. 1. 1. 1. 0. 0. 0. 0. 0. 0. 0. 0. 0.]\n",
      "11 [0. 0. 0. 0. 0. 0. 0. 0. 0. 0. 0. 1. 1. 1. 1. 1. 0. 0. 0. 0. 0. 0. 0. 0.]\n",
      "4 [0. 0. 0. 0. 1. 1. 1. 1. 1. 0. 0. 0. 0. 0. 0. 0. 0. 0. 0. 0. 0. 0. 0. 0.]\n",
      "17 [0. 0. 0. 0. 0. 0. 0. 0. 0. 0. 0. 0. 0. 0. 0. 0. 0. 1. 1. 1. 1. 1. 0. 0.]\n",
      "19 [0. 0. 0. 0. 0. 0. 0. 0. 0. 0. 0. 0. 0. 0. 0. 0. 0. 0. 0. 1. 1. 1. 1. 1.]\n",
      "16 [0. 0. 0. 0. 0. 0. 0. 0. 0. 0. 0. 0. 0. 0. 0. 0. 1. 1. 1. 1. 1. 0. 0. 0.]\n",
      "13 [0. 0. 0. 0. 0. 0. 0. 0. 0. 0. 0. 0. 0. 1. 1. 1. 1. 1. 0. 0. 0. 0. 0. 0.]\n",
      "0 [1. 1. 1. 1. 1. 0. 0. 0. 0. 0. 0. 0. 0. 0. 0. 0. 0. 0. 0. 0. 0. 0. 0. 0.]\n"
     ]
    }
   ],
   "source": [
    "rand = np.arange(20)\n",
    "random.shuffle(rand)\n",
    "\n",
    "for i in rand:\n",
    "    print(i, ScalarEndocer(i))"
   ]
  },
  {
   "cell_type": "code",
   "execution_count": 73,
   "metadata": {},
   "outputs": [],
   "source": [
    "'''\n",
    "큰 수들이 넓은 간격으로 분포하는 데이터를 인코딩.\n",
    "log encoder\n",
    "'''\n",
    "def ScalarEndocer_log(value):\n",
    "    min_val = 0                     # 최소값\n",
    "    max_val = 10000                  # 최대값\n",
    "    range_val = max_val - min_val   # 범위\n",
    "    num_bucket = 100                 # 칸 크기\n",
    "    w = 5                           # 표상에 나타날 비트 수\n",
    "    total_bits = num_bucket + w - 1 # 총 데이터 크기\n",
    "    \n",
    "    '''\n",
    "    입력 데이터 제한\n",
    "    '''\n",
    "    if(value > max_val):\n",
    "        value = max_val\n",
    "    elif(value < min_val):\n",
    "        value = min_val\n",
    "    \n",
    "    i = math.floor(num_bucket * np.log10(value - min_val) / np.log10(range_val))\n",
    "    \n",
    "    encoded_data = np.zeros(total_bits)\n",
    "    encoded_data[i : i+w] = 1\n",
    "    \n",
    "    return encoded_data"
   ]
  },
  {
   "cell_type": "code",
   "execution_count": 180,
   "metadata": {},
   "outputs": [
    {
     "data": {
      "text/plain": [
       "array([0., 0., 0., 0., 0., 0., 0., 0., 0., 0., 0., 0., 0., 0., 0., 0., 0.,\n",
       "       0., 0., 0., 0., 0., 0., 0., 0., 0., 0., 0., 0., 0., 0., 0., 0., 0.,\n",
       "       0., 0., 0., 0., 0., 0., 0., 0., 0., 0., 0., 0., 0., 0., 0., 0., 0.,\n",
       "       0., 0., 0., 0., 0., 0., 0., 0., 0., 0., 0., 0., 0., 0., 0., 0., 0.,\n",
       "       0., 0., 0., 0., 0., 0., 0., 0., 0., 0., 0., 0., 0., 0., 0., 0., 0.,\n",
       "       0., 1., 1., 1., 1., 1., 0., 0., 0., 0., 0., 0., 0., 0., 0., 0., 0.,\n",
       "       0., 0.])"
      ]
     },
     "execution_count": 180,
     "metadata": {},
     "output_type": "execute_result"
    }
   ],
   "source": [
    "ScalarEndocer_log(3000)"
   ]
  },
  {
   "cell_type": "code",
   "execution_count": 276,
   "metadata": {},
   "outputs": [],
   "source": [
    "'''\n",
    "연속된 데이터에서 변화값을 기반으로 인코딩.\n",
    "'''\n",
    "def ScalarEndocer_delta(value_prev, value_cur):\n",
    "    delta = value_cur - value_prev\n",
    "    min_val = -10                     # 최소값\n",
    "    max_val = 10                    # 최대값\n",
    "    range_val = max_val - min_val   # 범위\n",
    "    num_bucket = 20                 # 칸 크기\n",
    "    w = 3                           # 표상에 나타날 비트 수\n",
    "    total_bits = num_bucket + w - 1 # 총 데이터 크기\n",
    "    \n",
    "    '''\n",
    "    입력 데이터 제한\n",
    "    '''\n",
    "    if(delta > max_val):\n",
    "        delta = max_val\n",
    "    elif(delta < min_val):\n",
    "        delta = min_val\n",
    "        \n",
    "    i = math.floor(num_bucket * (delta - min_val) / range_val)\n",
    "    \n",
    "    encoded_data = np.zeros(total_bits)\n",
    "    encoded_data[i : i+w] = 1\n",
    "        \n",
    "    return encoded_data"
   ]
  },
  {
   "cell_type": "code",
   "execution_count": 279,
   "metadata": {},
   "outputs": [
    {
     "name": "stdout",
     "output_type": "stream",
     "text": [
      "-7 [0. 0. 0. 1. 1. 1. 0. 0. 0. 0. 0. 0. 0. 0. 0. 0. 0. 0. 0. 0. 0. 0.]\n",
      "-6 [0. 0. 0. 0. 1. 1. 1. 0. 0. 0. 0. 0. 0. 0. 0. 0. 0. 0. 0. 0. 0. 0.]\n",
      "-3 [0. 0. 0. 0. 0. 0. 0. 1. 1. 1. 0. 0. 0. 0. 0. 0. 0. 0. 0. 0. 0. 0.]\n",
      "-2 [0. 0. 0. 0. 0. 0. 0. 0. 1. 1. 1. 0. 0. 0. 0. 0. 0. 0. 0. 0. 0. 0.]\n",
      "-7 [0. 0. 0. 1. 1. 1. 0. 0. 0. 0. 0. 0. 0. 0. 0. 0. 0. 0. 0. 0. 0. 0.]\n",
      "-10 [1. 1. 1. 0. 0. 0. 0. 0. 0. 0. 0. 0. 0. 0. 0. 0. 0. 0. 0. 0. 0. 0.]\n",
      "-2 [0. 0. 0. 0. 0. 0. 0. 0. 1. 1. 1. 0. 0. 0. 0. 0. 0. 0. 0. 0. 0. 0.]\n",
      "-2 [0. 0. 0. 0. 0. 0. 0. 0. 1. 1. 1. 0. 0. 0. 0. 0. 0. 0. 0. 0. 0. 0.]\n",
      "-2 [0. 0. 0. 0. 0. 0. 0. 0. 1. 1. 1. 0. 0. 0. 0. 0. 0. 0. 0. 0. 0. 0.]\n",
      "8 [0. 0. 0. 0. 0. 0. 0. 0. 0. 0. 0. 0. 0. 0. 0. 0. 0. 0. 1. 1. 1. 0.]\n",
      "7 [0. 0. 0. 0. 0. 0. 0. 0. 0. 0. 0. 0. 0. 0. 0. 0. 0. 1. 1. 1. 0. 0.]\n",
      "8 [0. 0. 0. 0. 0. 0. 0. 0. 0. 0. 0. 0. 0. 0. 0. 0. 0. 0. 1. 1. 1. 0.]\n",
      "8 [0. 0. 0. 0. 0. 0. 0. 0. 0. 0. 0. 0. 0. 0. 0. 0. 0. 0. 1. 1. 1. 0.]\n",
      "-2 [0. 0. 0. 0. 0. 0. 0. 0. 1. 1. 1. 0. 0. 0. 0. 0. 0. 0. 0. 0. 0. 0.]\n",
      "12 [0. 0. 0. 0. 0. 0. 0. 0. 0. 0. 0. 0. 0. 0. 0. 0. 0. 0. 0. 0. 1. 1.]\n"
     ]
    }
   ],
   "source": [
    "data = np.arange(15)\n",
    "random.shuffle(data)\n",
    "\n",
    "for i in data:\n",
    "    print(data[i] - data[i-1], ScalarEndocer_delta(data[i - 1], data[i]))"
   ]
  },
  {
   "cell_type": "markdown",
   "metadata": {},
   "source": [
    "---\n",
    "## Category Encoder\n",
    "\n",
    "---\n",
    "- 이산적으로 분류가 가능한 데이터 셋을 encoding 한다.\n",
    "- 완전히 무관한 카테고리 혹은 어느정도 관련이 있는 카테고리 모두 가능하다.\n",
    "- 완전 무관한 카테고리가 유리하다.\n",
    "- \n",
    "---"
   ]
  },
  {
   "cell_type": "code",
   "execution_count": 39,
   "metadata": {},
   "outputs": [],
   "source": [
    "def WeekEncoder(day):\n",
    "    '''\n",
    "    주중과 주말을 category 화 하여 encoding.\n",
    "    - SUN - MON - TUE - WED - THU - FRI - SAT -\n",
    "    겹치지않게 만든다.\n",
    "    '''\n",
    "    data_size = 10\n",
    "    \n",
    "    if(day == 'SUN' or day == 'SAT'):\n",
    "        start_bit = 0\n",
    "    elif(day == 'MON' or day == 'TUE' or day == 'WED' or \n",
    "         day == 'THU' or day == 'FRI'):\n",
    "        start_bit = int(data_size / 2)\n",
    "    else:\n",
    "        print(\"N/A\")\n",
    "        return 0\n",
    "        \n",
    "    encoded_data = np.zeros(data_size)\n",
    "    encoded_data[start_bit : start_bit + int(data_size/2)] = 1\n",
    "    \n",
    "    return encoded_data"
   ]
  },
  {
   "cell_type": "code",
   "execution_count": 40,
   "metadata": {},
   "outputs": [
    {
     "name": "stdout",
     "output_type": "stream",
     "text": [
      "SUN -> [1. 1. 1. 1. 1. 0. 0. 0. 0. 0.]\n",
      "MON -> [0. 0. 0. 0. 0. 1. 1. 1. 1. 1.]\n",
      "TUE -> [0. 0. 0. 0. 0. 1. 1. 1. 1. 1.]\n",
      "WED -> [0. 0. 0. 0. 0. 1. 1. 1. 1. 1.]\n",
      "THU -> [0. 0. 0. 0. 0. 1. 1. 1. 1. 1.]\n",
      "FRI -> [0. 0. 0. 0. 0. 1. 1. 1. 1. 1.]\n",
      "SAT -> [1. 1. 1. 1. 1. 0. 0. 0. 0. 0.]\n"
     ]
    }
   ],
   "source": [
    "days = ['SUN', 'MON', 'TUE', 'WED', 'THU', 'FRI', 'SAT']\n",
    "\n",
    "for i in days:\n",
    "    print(i, '->', WeekEncoder(i))"
   ]
  },
  {
   "cell_type": "code",
   "execution_count": 56,
   "metadata": {},
   "outputs": [],
   "source": [
    "class CategoryEncoder:\n",
    "    '''\n",
    "    간단한 카테고리 encoder\n",
    "    겹치지않게 만든다.\n",
    "    '''\n",
    "    def __init__(self, category, active_bits=3):\n",
    "        self.category = category\n",
    "        self.category_count = len(category)\n",
    "        self.active_bits = active_bits\n",
    "        self.total_bit = self.category_count * self.active_bits\n",
    "        self.encoded_data = np.zeros(self.total_bit)\n",
    "    \n",
    "    def encode(self, item):\n",
    "        if(item not in self.category):\n",
    "            print('N/A')\n",
    "            return None\n",
    "        \n",
    "        start_bit = self.category.index(item) + (self.active_bits - 1)*self.category.index(item)\n",
    "        self.encoded_data[start_bit : start_bit+self.active_bits] = 1\n",
    "        \n",
    "        return self.encoded_data"
   ]
  },
  {
   "cell_type": "code",
   "execution_count": 43,
   "metadata": {},
   "outputs": [
    {
     "data": {
      "text/plain": [
       "array([0., 0., 0., 0., 0., 0., 1., 1.])"
      ]
     },
     "execution_count": 43,
     "metadata": {},
     "output_type": "execute_result"
    }
   ],
   "source": [
    "category = ['dog', 'cat', 'tiger', 'horse']\n",
    "a = CategoryEncoder(category, active_bits=2)\n",
    "a.encode('horse')"
   ]
  },
  {
   "cell_type": "markdown",
   "metadata": {},
   "source": [
    "---\n",
    "## Cycle Encoder\n",
    "\n",
    "---\n",
    "\n",
    "- 연속적으로 변하거나 순환하는 데이터 집합일 때 사용.\n",
    "- 부동소수점 등 연속적인 데이터를 다룰 때 사용.\n",
    "---"
   ]
  },
  {
   "cell_type": "code",
   "execution_count": 71,
   "metadata": {},
   "outputs": [],
   "source": [
    "class CycleEncoder:\n",
    "    '''\n",
    "    겹치게 만든다.\n",
    "    case by case 로 hardcoding 이 필요함.\n",
    "    '''\n",
    "    def __init__(self, category, active_bits=3, resolution=5):\n",
    "        self.category = category\n",
    "        self.category_count = len(category)\n",
    "        self.active_bits = active_bits\n",
    "        self.resolution = resolution\n",
    "        self.total_bit = self.category_count * self.resolution\n",
    "        self.encoded_data = np.zeros(self.total_bit)\n",
    "    \n",
    "    def encode(self, time):\n",
    "        #start_bit = \n",
    "        \n",
    "        return self.encoded_data"
   ]
  },
  {
   "cell_type": "code",
   "execution_count": 72,
   "metadata": {},
   "outputs": [
    {
     "data": {
      "text/plain": [
       "20"
      ]
     },
     "execution_count": 72,
     "metadata": {},
     "output_type": "execute_result"
    }
   ],
   "source": [
    "c = [1,2,3,4]\n",
    "ce = CycleEncoder(c)\n",
    "ce.total_bit"
   ]
  },
  {
   "cell_type": "code",
   "execution_count": null,
   "metadata": {},
   "outputs": [],
   "source": []
  }
 ],
 "metadata": {
  "kernelspec": {
   "display_name": "Python 3",
   "language": "python",
   "name": "python3"
  },
  "language_info": {
   "codemirror_mode": {
    "name": "ipython",
    "version": 3
   },
   "file_extension": ".py",
   "mimetype": "text/x-python",
   "name": "python",
   "nbconvert_exporter": "python",
   "pygments_lexer": "ipython3",
   "version": "3.6.8"
  }
 },
 "nbformat": 4,
 "nbformat_minor": 4
}
