{
 "cells": [
  {
   "cell_type": "markdown",
   "metadata": {},
   "source": [
    "---\n",
    "# 신경망 종합 테스트\n",
    "- burst 하여 active cell 이 많으면 새로운 패턴을 인지한다는 의미\n",
    "- 먼저 spatial pooler 가 안정되어야 한다.\n",
    "---\n",
    "encoder - sp - tm -> prediction + textual representation<br/>\n",
    "예측 cell / 활성화 cell 비교 - 예측이 맞는지 확인 가능<br/>\n",
    "예측 column / 입력 column 비교 - 마찬가지<br/>\n",
    "burst 한 column / 활성화 된 column - 마찬가지<br/>\n"
   ]
  },
  {
   "cell_type": "code",
   "execution_count": 1,
   "metadata": {},
   "outputs": [
    {
     "name": "stdout",
     "output_type": "stream",
     "text": [
      "Importing Jupyter notebook from TM.ipynb\n",
      "Importing Jupyter notebook from memoryStruct.ipynb\n",
      "Importing Jupyter notebook from Encoder.ipynb\n",
      "Importing Jupyter notebook from SP3.ipynb\n"
     ]
    }
   ],
   "source": [
    "import numpy as np\n",
    "import random\n",
    "import nbimporter\n",
    "import TM\n",
    "import Encoder\n",
    "import SP3"
   ]
  },
  {
   "cell_type": "code",
   "execution_count": 2,
   "metadata": {},
   "outputs": [],
   "source": [
    "encoder = Encoder.ScalarEncoder(out_size=100, w=20, max_val=30)\n",
    "sp = SP3.SpatialPooler(encoder.out_size, columns=512, perm_conn=.6, minOver=encoder.w/5, potential_rate=0.9)"
   ]
  },
  {
   "cell_type": "code",
   "execution_count": 3,
   "metadata": {},
   "outputs": [],
   "source": [
    "for epoch in range(5):\n",
    "    a = np.arange(encoder.max_val)\n",
    "    random.shuffle(a)\n",
    "    \n",
    "    for i in a:\n",
    "        input_data = encoder.encode(i)\n",
    "        sp.compute_SDR(input_data)"
   ]
  },
  {
   "cell_type": "code",
   "execution_count": 6,
   "metadata": {},
   "outputs": [
    {
     "name": "stdout",
     "output_type": "stream",
     "text": [
      "유사도 : 0.7\n",
      "[154 172 206 212 217 253 282 374 464 492]\n",
      "[154 206 212 253 282 314 332 374 386 388 464]\n",
      "\n",
      "유사도 : 0.36363636363636365\n",
      "[154 206 212 253 282 314 332 374 386 388 464]\n",
      "[ 90 111 183 199 212 214 253 290 314 317 386 430]\n",
      "\n",
      "유사도 : 0.25\n",
      "[ 90 111 183 199 212 214 253 290 314 317 386 430]\n",
      "[ 90 201 290 297 325 382 399 430 449 482]\n",
      "\n",
      "유사도 : 0.4\n",
      "[ 90 201 290 297 325 382 399 430 449 482]\n",
      "[154 156 164 201 209 297 382 398 465 482]\n",
      "\n",
      "유사도 : 0.0\n",
      "[154 156 164 201 209 297 382 398 465 482]\n",
      "[104 195 224 296 318 367 389 401 475 486]\n",
      "\n",
      "유사도 : 0.4\n",
      "[104 195 224 296 318 367 389 401 475 486]\n",
      "[ 14 192 224 302 318 355 359 389 401 455]\n",
      "\n",
      "유사도 : 0.5\n",
      "[ 14 192 224 302 318 355 359 389 401 455]\n",
      "[ 73 156 219 224 339 355 389 401 455 486]\n",
      "\n",
      "유사도 : 0.1\n",
      "[ 73 156 219 224 339 355 389 401 455 486]\n",
      "[ 17  73  83 117 127 176 191 192 255 378]\n",
      "\n",
      "유사도 : 0.2\n",
      "[ 17  73  83 117 127 176 191 192 255 378]\n",
      "[ 57  83  94 148 255 358 380 413 433 497]\n",
      "\n",
      "유사도 : 0.3\n",
      "[ 57  83  94 148 255 358 380 413 433 497]\n",
      "[ 17  83 133 240 255 292 366 413 442 503 507]\n",
      "\n",
      "유사도 : 0.5454545454545454\n",
      "[ 17  83 133 240 255 292 366 413 442 503 507]\n",
      "[ 40  79  97 240 255 292 345 366 385 413 414 503]\n",
      "\n",
      "유사도 : 0.08333333333333333\n",
      "[ 40  79  97 240 255 292 345 366 385 413 414 503]\n",
      "[  5  44 102 176 180 327 331 414 420 432 494]\n",
      "\n",
      "유사도 : 0.2727272727272727\n",
      "[  5  44 102 176 180 327 331 414 420 432 494]\n",
      "[  5  28  31  44 180 236 323 344 361 495]\n",
      "\n",
      "유사도 : 0.5\n",
      "[  5  28  31  44 180 236 323 344 361 495]\n",
      "[ 31 128 210 323 327 344 349 361 404 495]\n",
      "\n",
      "유사도 : 0.1\n",
      "[ 31 128 210 323 327 344 349 361 404 495]\n",
      "[ 74 134 155 168 186 210 228 261 275 372 431 432]\n",
      "\n",
      "유사도 : 0.25\n",
      "[ 74 134 155 168 186 210 228 261 275 372 431 432]\n",
      "[ 33  56 144 155 171 186 257 261 294 309 419]\n",
      "\n",
      "유사도 : 0.2727272727272727\n",
      "[ 33  56 144 155 171 186 257 261 294 309 419]\n",
      "[ 33  42  46  51  56  69 125 254 257 406]\n",
      "\n",
      "유사도 : 0.3\n",
      "[ 33  42  46  51  56  69 125 254 257 406]\n",
      "[  3  23  38  42  56 138 155 159 198 207 254 275 311 376 431 440]\n",
      "\n",
      "유사도 : 0.25\n",
      "[  3  23  38  42  56 138 155 159 198 207 254 275 311 376 431 440]\n",
      "[  3  22  23 110 207 213 238 311 434 493]\n",
      "\n",
      "유사도 : 0.3\n",
      "[  3  22  23 110 207 213 238 311 434 493]\n",
      "[ 22 110 141 161 248 271 363 468 493 504]\n",
      "\n",
      "유사도 : 0.5\n",
      "[ 22 110 141 161 248 271 363 468 493 504]\n",
      "[ 22  46  87 161 177 242 335 468 493 504]\n",
      "\n",
      "유사도 : 0.1\n",
      "[ 22  46  87 161 177 242 335 468 493 504]\n",
      "[  4   8  41  59 100 106 141 200 259 373 375 428 468]\n",
      "\n",
      "유사도 : 0.07692307692307693\n",
      "[  4   8  41  59 100 106 141 200 259 373 375 428 468]\n",
      "[101 106 218 267 269 299 356 393 467 499]\n",
      "\n",
      "유사도 : 0.4\n",
      "[101 106 218 267 269 299 356 393 467 499]\n",
      "[ 58  78 101 119 130 190 299 356 362 393]\n",
      "\n",
      "유사도 : 1.0\n",
      "[ 58  78 101 119 130 190 299 356 362 393]\n",
      "[ 58  78 101 119 130 190 299 356 362 393]\n",
      "\n",
      "유사도 : 0.2\n",
      "[ 58  78 101 119 130 190 299 356 362 393]\n",
      "[  8  59 106 169 190 245 248 263 265 276 299 308 439 487 499]\n",
      "\n",
      "유사도 : 0.2\n",
      "[  8  59 106 169 190 245 248 263 265 276 299 308 439 487 499]\n",
      "[  4   8  41  59 100 106 141 200 259 373 375 428 468]\n",
      "\n",
      "유사도 : 0.07692307692307693\n",
      "[  4   8  41  59 100 106 141 200 259 373 375 428 468]\n",
      "[ 22  46  87 161 177 242 335 468 493 504]\n",
      "\n",
      "유사도 : 0.4\n",
      "[ 22  46  87 161 177 242 335 468 493 504]\n",
      "[ 22  99 110 161 238 271 328 354 390 434 468 493]\n",
      "\n",
      "유사도 : 0.4166666666666667\n",
      "[ 22  99 110 161 238 271 328 354 390 434 468 493]\n",
      "[  3  22  23 110 207 213 238 311 434 493]\n",
      "\n"
     ]
    }
   ],
   "source": [
    "for i in range(encoder.max_val):\n",
    "    sp.compute_SDR(encoder.encode(i), learn=False)\n",
    "    sdr1 = sp.getActiveColumns()\n",
    "    sp.compute_SDR(encoder.encode(i+1), learn=False)\n",
    "    sdr2 = sp.getActiveColumns()\n",
    "    \n",
    "    sp.similarity(sdr1, sdr2, False)\n",
    "    print('')"
   ]
  },
  {
   "cell_type": "code",
   "execution_count": 4,
   "metadata": {},
   "outputs": [],
   "source": [
    "tm = TM.TemporalMemory(sdr_size=sp.columnCount, threshold=5)"
   ]
  },
  {
   "cell_type": "code",
   "execution_count": 5,
   "metadata": {},
   "outputs": [],
   "source": [
    "tm.learn = True\n",
    "\n",
    "seq_data = [1,2,3,4]\n",
    "\n",
    "for i in range(3):\n",
    "    for s in seq_data:\n",
    "        dat = encoder.encode(s)\n",
    "        sp.compute_SDR(dat, learn=False)\n",
    "        sdr = sp.getActiveColumns_raw()\n",
    "        tm.compute(sdr)"
   ]
  },
  {
   "cell_type": "code",
   "execution_count": 6,
   "metadata": {},
   "outputs": [
    {
     "name": "stdout",
     "output_type": "stream",
     "text": [
      "현재 sdr : [ 11 111 124 151 203 223 237 289 340 360 425 431]\n",
      "다음 예측 : [199, 17, 338, 148, 340, 86, 341, 313, 282, 446]\n",
      "현재 burst : [289, 360, 425, 11, 237, 111, 431, 340, 151, 124, 223]\n",
      "\n",
      "\n",
      "현재 sdr : [ 17  86 148 199 282 313 338 340 341 446]\n",
      "다음 예측 : [256, 321, 355, 265, 17, 338, 148, 341, 282, 477, 446]\n",
      "현재 burst : [282, 446]\n",
      "\n",
      "\n",
      "현재 sdr : [ 17 148 256 265 282 321 338 341 355 446 477]\n",
      "다음 예측 : [288, 100, 166, 103, 294, 17, 148, 341, 280, 186]\n",
      "현재 burst : [321, 355, 265, 17, 338, 148, 341]\n",
      "\n",
      "\n",
      "현재 sdr : [ 17 100 103 148 166 186 280 288 294 341]\n",
      "다음 예측 : [289, 360, 425, 203, 340, 151, 124, 223]\n",
      "현재 burst : [288, 17, 186, 341]\n",
      "\n",
      "\n"
     ]
    }
   ],
   "source": [
    "tm.learn = False\n",
    "\n",
    "test_data = [1,2,3,4]\n",
    "sub = [4,3]\n",
    "\n",
    "for d in test_data:\n",
    "    dat = encoder.encode(d)\n",
    "    sp.compute_SDR(dat, learn=False)\n",
    "    sdr = sp.getActiveColumns_raw()\n",
    "    tm.compute(sdr)\n",
    "\n",
    "    print(\"현재 sdr : {}\".format(sp.getActiveColumns()))\n",
    "    print(\"다음 예측 : {}\".format(tm.column_predicted()))\n",
    "    print(\"현재 burst : {}\".format(tm.column_bursted()))\n",
    "    print(\"\\n\")"
   ]
  },
  {
   "cell_type": "code",
   "execution_count": 15,
   "metadata": {},
   "outputs": [
    {
     "name": "stdout",
     "output_type": "stream",
     "text": [
      "2000 번 cell 에 연결되어 있는 synapse : set()\n",
      "[ 86 160 176 237 353 361 415 458 492 500]\n",
      "[131, 285, 329, 361, 176, 415, 86, 361, 458, 492, 237, 353, 285, 462, 40, 285, 361, 40, 145, 451, 462, 500, 40]\n",
      "[86, 237, 353, 361, 458, 492]\n"
     ]
    }
   ],
   "source": [
    "# len(tm.connInfo.totalSegments)\n",
    "cell = 2000\n",
    "print('{} 번 cell 에 연결되어 있는 synapse : {}'.format(cell, tm.connInfo.totalCells[cell].connectedSynapses))\n",
    "#print(len(tm.prev_activeCells))\n",
    "#print(len(tm.activeCells))\n",
    "#for c in tm.connInfo.totalCells:\n",
    " #   if(len(c.connectedSynapses) > 0):\n",
    "  #      print(\"살아있는 cell : \" + str(c.cell_id))\n",
    "        \n",
    "#choose = list(tm.connInfo.totalCells[cell].connectedSynapses)[0]\n",
    "#for i in tm.connInfo.totalSegments:\n",
    " #   for j in i.synapses:\n",
    "  #      if (j.synapse_id == choose):\n",
    "   #         print(j.synapse_id)\n",
    "    #        print(j.preSynapticCell)\n",
    "     #       print(j.permanence)\n",
    "        \n",
    "print(sp.getActiveColumns())\n",
    "print(tm.predicted)\n",
    "print(tm.bursted)"
   ]
  }
 ],
 "metadata": {
  "kernelspec": {
   "display_name": "Python 3",
   "language": "python",
   "name": "python3"
  },
  "language_info": {
   "codemirror_mode": {
    "name": "ipython",
    "version": 3
   },
   "file_extension": ".py",
   "mimetype": "text/x-python",
   "name": "python",
   "nbconvert_exporter": "python",
   "pygments_lexer": "ipython3",
   "version": "3.6.7"
  }
 },
 "nbformat": 4,
 "nbformat_minor": 2
}
