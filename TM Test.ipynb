{
 "cells": [
  {
   "cell_type": "markdown",
   "metadata": {},
   "source": [
    "---\n",
    "# 신경망 종합 테스트\n",
    "- burst 하여 active cell 이 많으면 새로운 패턴을 인지한다는 의미\n",
    "- 먼저 spatial pooler 가 안정되어야 한다.\n",
    "---\n",
    "encoder - sp - tm -> prediction + textual representation<br/>\n",
    "예측 cell / 활성화 cell 비교 - 예측이 맞는지 확인 가능<br/>\n",
    "예측 column / 입력 column 비교 - 마찬가지<br/>\n",
    "burst 한 column / 활성화 된 column - 마찬가지<br/>\n"
   ]
  },
  {
   "cell_type": "code",
   "execution_count": 1,
   "metadata": {},
   "outputs": [
    {
     "name": "stdout",
     "output_type": "stream",
     "text": [
      "Importing Jupyter notebook from Encoder.ipynb\n",
      "Importing Jupyter notebook from SP3.ipynb\n",
      "Importing Jupyter notebook from TM.ipynb\n",
      "Importing Jupyter notebook from memoryStruct.ipynb\n"
     ]
    }
   ],
   "source": [
    "import numpy as np\n",
    "import random\n",
    "import nbimporter\n",
    "import Encoder\n",
    "import SP3\n",
    "import TM"
   ]
  },
  {
   "cell_type": "code",
   "execution_count": 2,
   "metadata": {},
   "outputs": [],
   "source": [
    "encoder = Encoder.ScalarEncoder(out_size=100, w=20, max_val=30)\n",
    "sp = SP3.SpatialPooler(encoder.out_size, columns=512, perm_conn=.6, minOver=encoder.w/5, potential_rate=0.9)"
   ]
  },
  {
   "cell_type": "code",
   "execution_count": 3,
   "metadata": {},
   "outputs": [],
   "source": [
    "for epoch in range(10):\n",
    "    a = np.arange(encoder.max_val)\n",
    "    random.shuffle(a)\n",
    "    \n",
    "    for i in a:\n",
    "        input_data = encoder.encode(i)\n",
    "        sp.compute_SDR(input_data)"
   ]
  },
  {
   "cell_type": "code",
   "execution_count": 10,
   "metadata": {},
   "outputs": [
    {
     "name": "stdout",
     "output_type": "stream",
     "text": [
      "유사도 : 0.8\n",
      "[  7  28  34  48 230 234 336 408 421 486]\n",
      "[ 28  34  48  72 213 234 336 408 421 486]\n",
      "\n",
      "유사도 : 0.3\n",
      "[ 28  34  48  72 213 234 336 408 421 486]\n",
      "[  6   7  34  55  82 139 213 320 400 486]\n",
      "\n",
      "유사도 : 0.4\n",
      "[  6   7  34  55  82 139 213 320 400 486]\n",
      "[  6  55  82 213 286 319 343 448 476 494]\n",
      "\n",
      "유사도 : 0.6\n",
      "[  6  55  82 213 286 319 343 448 476 494]\n",
      "[  6  15  82 186 194 319 343 442 448 476 503]\n",
      "\n",
      "유사도 : 0.36363636363636365\n",
      "[  6  15  82 186 194 319 343 442 448 476 503]\n",
      "[125 143 146 186 323 394 422 448 460 476 503]\n",
      "\n",
      "유사도 : 0.36363636363636365\n",
      "[125 143 146 186 323 394 422 448 460 476 503]\n",
      "[ 21  31 125 146 281 311 381 394 395 460]\n",
      "\n",
      "유사도 : 0.6\n",
      "[ 21  31 125 146 281 311 381 394 395 460]\n",
      "[ 31  55 125 146 200 281 381 390 424 460]\n",
      "\n",
      "유사도 : 0.3\n",
      "[ 31  55 125 146 200 281 381 390 424 460]\n",
      "[ 55 159 163 191 223 254 326 348 383 390 399 424 432 455 492]\n",
      "\n",
      "유사도 : 0.4666666666666667\n",
      "[ 55 159 163 191 223 254 326 348 383 390 399 424 432 455 492]\n",
      "[  5  12  75 104 154 159 189 191 254 259 323 328 348 420 424 432 433 492]\n",
      "\n",
      "유사도 : 0.4444444444444444\n",
      "[  5  12  75 104 154 159 189 191 254 259 323 328 348 420 424 432 433 492]\n",
      "[  5  29 120 154 191 254 323 432 433 492]\n",
      "\n",
      "유사도 : 0.7\n",
      "[  5  29 120 154 191 254 323 432 433 492]\n",
      "[  5 131 184 191 249 254 323 432 433 492]\n",
      "\n",
      "유사도 : 0.6\n",
      "[  5 131 184 191 249 254 323 432 433 492]\n",
      "[  5  93 162 184 191 249 254 305 323 349 392 396]\n",
      "\n",
      "유사도 : 0.16666666666666666\n",
      "[  5  93 162 184 191 249 254 305 323 349 392 396]\n",
      "[ 37  41  51  80 181 188 208 243 256 287 301 332 349 392 447 470]\n",
      "\n",
      "유사도 : 0.375\n",
      "[ 37  41  51  80 181 188 208 243 256 287 301 332 349 392 447 470]\n",
      "[ 33  42  80 103 188 287 301 349 447 496]\n",
      "\n",
      "유사도 : 0.2\n",
      "[ 33  42  80 103 188 287 301 349 447 496]\n",
      "[ 41  42  73  78 129 177 209 275 287 461]\n",
      "\n",
      "유사도 : 0.3\n",
      "[ 41  42  73  78 129 177 209 275 287 461]\n",
      "[ 73  78 100 177 283 337 398 406 478 491 509]\n",
      "\n",
      "유사도 : 0.36363636363636365\n",
      "[ 73  78 100 177 283 337 398 406 478 491 509]\n",
      "[ 70  82 267 280 283 337 398 478 481 489 507]\n",
      "\n",
      "유사도 : 0.36363636363636365\n",
      "[ 70  82 267 280 283 337 398 478 481 489 507]\n",
      "[ 82 102 109 312 333 456 462 478 489 507]\n",
      "\n",
      "유사도 : 0.4\n",
      "[ 82 102 109 312 333 456 462 478 489 507]\n",
      "[ 80  82 109 124 253 338 340 388 489 507]\n",
      "\n",
      "유사도 : 0.2\n",
      "[ 80  82 109 124 253 338 340 388 489 507]\n",
      "[ 22  82 109 247 360 409 433 443 487 500]\n",
      "\n",
      "유사도 : 0.8\n",
      "[ 22  82 109 247 360 409 433 443 487 500]\n",
      "[ 22  82 247 360 409 433 436 453 487 500]\n",
      "\n",
      "유사도 : 0.4\n",
      "[ 22  82 247 360 409 433 436 453 487 500]\n",
      "[ 22  88 110 195 247 252 330 360 487 501]\n",
      "\n",
      "유사도 : 0.8\n",
      "[ 22  88 110 195 247 252 330 360 487 501]\n",
      "[ 88 110 195 208 247 252 330 487 500 501]\n",
      "\n",
      "유사도 : 0.7\n",
      "[ 88 110 195 208 247 252 330 487 500 501]\n",
      "[ 83  88 110 195 208 313 429 487 500 501]\n",
      "\n",
      "유사도 : 1.0\n",
      "[ 83  88 110 195 208 313 429 487 500 501]\n",
      "[ 83  88 110 195 208 313 429 487 500 501]\n",
      "\n",
      "유사도 : 0.7\n",
      "[ 83  88 110 195 208 313 429 487 500 501]\n",
      "[ 88 110 182 195 208 247 252 330 487 500 501]\n",
      "\n",
      "유사도 : 0.7272727272727273\n",
      "[ 88 110 182 195 208 247 252 330 487 500 501]\n",
      "[ 22  88 110 195 247 252 330 360 487 501]\n",
      "\n",
      "유사도 : 0.4\n",
      "[ 22  88 110 195 247 252 330 360 487 501]\n",
      "[ 22  82 247 360 409 433 436 453 487 500]\n",
      "\n",
      "유사도 : 0.6\n",
      "[ 22  82 247 360 409 433 436 453 487 500]\n",
      "[ 80  82 109 247 409 433 443 487 489 500]\n",
      "\n",
      "유사도 : 0.4\n",
      "[ 80  82 109 247 409 433 443 487 489 500]\n",
      "[ 80  82 109 124 253 338 340 388 489 507]\n",
      "\n"
     ]
    }
   ],
   "source": [
    "for i in range(encoder.max_val):\n",
    "    sp.compute_SDR(encoder.encode(i), learn=False)\n",
    "    sdr1 = sp.getActiveColumns()\n",
    "    sp.compute_SDR(encoder.encode(i+1), learn=False)\n",
    "    sdr2 = sp.getActiveColumns()\n",
    "    \n",
    "    sp.similarity(sdr1, sdr2, False)\n",
    "    print('')"
   ]
  },
  {
   "cell_type": "code",
   "execution_count": 241,
   "metadata": {},
   "outputs": [],
   "source": [
    "tm = TM.TemporalMemory(sdr_size=sp.columnCount, threshold=2)"
   ]
  },
  {
   "cell_type": "code",
   "execution_count": 244,
   "metadata": {},
   "outputs": [],
   "source": [
    "tm.learn = True\n",
    "\n",
    "seq_data = [1,2,3,4,]\n",
    "\n",
    "for i in range(10):\n",
    "    for s in seq_data:\n",
    "        dat = encoder.encode(s)\n",
    "        sp.compute_SDR(dat, learn=False)\n",
    "        sdr = sp.getActiveColumns_raw()\n",
    "        tm.compute(sdr)"
   ]
  },
  {
   "cell_type": "code",
   "execution_count": 245,
   "metadata": {},
   "outputs": [
    {
     "name": "stdout",
     "output_type": "stream",
     "text": [
      "현재 sdr : [ 46  54 112 207 251 345 354 357 363 434]\n",
      "다음 예측 : [354, 47, 112, 144, 18, 115, 443, 54, 311, 251, 510]\n",
      "현재 burst : [54, 354, 46]\n",
      "\n",
      "\n",
      "현재 sdr : [ 18  47  54 112 115 251 311 354 443 510]\n",
      "다음 예측 : [13, 334, 176, 241, 18, 112, 144, 115, 54, 311, 151, 443]\n",
      "현재 burst : []\n",
      "\n",
      "\n",
      "현재 sdr : [ 13  79 112 115 144 151 176 241 311 334]\n",
      "다음 예측 : [104, 301, 13, 79, 144, 241, 115, 278, 440, 446]\n",
      "현재 burst : [79]\n",
      "\n",
      "\n",
      "현재 sdr : [ 13  79 104 115 144 241 278 301 440 446]\n",
      "다음 예측 : [354, 357, 363, 301, 46, 207, 112, 241, 434, 13, 79, 54, 345, 251, 446]\n",
      "현재 burst : []\n",
      "\n",
      "\n"
     ]
    }
   ],
   "source": [
    "tm.learn = False\n",
    "\n",
    "test_data = [1,2,3,4]\n",
    "sub = [4,3]\n",
    "\n",
    "for d in test_data:\n",
    "    dat = encoder.encode(d)\n",
    "    sp.compute_SDR(dat, learn=False)\n",
    "    sdr = sp.getActiveColumns_raw()\n",
    "    tm.compute(sdr)\n",
    "\n",
    "    print(\"현재 sdr : {}\".format(sp.getActiveColumns()))\n",
    "    print(\"다음 예측 : {}\".format(tm.column_predicted()))\n",
    "    print(\"현재 burst : {}\".format(tm.column_bursted()))\n",
    "    print(\"\\n\")"
   ]
  },
  {
   "cell_type": "code",
   "execution_count": 15,
   "metadata": {},
   "outputs": [
    {
     "name": "stdout",
     "output_type": "stream",
     "text": [
      "2000 번 cell 에 연결되어 있는 synapse : set()\n",
      "[ 86 160 176 237 353 361 415 458 492 500]\n",
      "[131, 285, 329, 361, 176, 415, 86, 361, 458, 492, 237, 353, 285, 462, 40, 285, 361, 40, 145, 451, 462, 500, 40]\n",
      "[86, 237, 353, 361, 458, 492]\n"
     ]
    }
   ],
   "source": [
    "# len(tm.connInfo.totalSegments)\n",
    "cell = 2000\n",
    "print('{} 번 cell 에 연결되어 있는 synapse : {}'.format(cell, tm.connInfo.totalCells[cell].connectedSynapses))\n",
    "#print(len(tm.prev_activeCells))\n",
    "#print(len(tm.activeCells))\n",
    "#for c in tm.connInfo.totalCells:\n",
    " #   if(len(c.connectedSynapses) > 0):\n",
    "  #      print(\"살아있는 cell : \" + str(c.cell_id))\n",
    "        \n",
    "#choose = list(tm.connInfo.totalCells[cell].connectedSynapses)[0]\n",
    "#for i in tm.connInfo.totalSegments:\n",
    " #   for j in i.synapses:\n",
    "  #      if (j.synapse_id == choose):\n",
    "   #         print(j.synapse_id)\n",
    "    #        print(j.preSynapticCell)\n",
    "     #       print(j.permanence)\n",
    "        \n",
    "print(sp.getActiveColumns())\n",
    "print(tm.predicted)\n",
    "print(tm.bursted)"
   ]
  }
 ],
 "metadata": {
  "kernelspec": {
   "display_name": "Python 3",
   "language": "python",
   "name": "python3"
  },
  "language_info": {
   "codemirror_mode": {
    "name": "ipython",
    "version": 3
   },
   "file_extension": ".py",
   "mimetype": "text/x-python",
   "name": "python",
   "nbconvert_exporter": "python",
   "pygments_lexer": "ipython3",
   "version": "3.6.7"
  }
 },
 "nbformat": 4,
 "nbformat_minor": 2
}
